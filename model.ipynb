{
 "cells": [
  {
   "cell_type": "code",
   "execution_count": 6,
   "metadata": {},
   "outputs": [],
   "source": [
    "import numpy as np\n",
    "\n",
    "class PCA:\n",
    "\n",
    "    def __init__(self, n_components):\n",
    "        self.n_components = n_components\n",
    "        self.components = None\n",
    "        self.mean = None\n",
    "\n",
    "    def fit(self, X):\n",
    "        # mean centering\n",
    "        self.mean = np.mean(X, axis=0)\n",
    "        X = X -  self.mean\n",
    "\n",
    "        # covariance, functions needs samples as columns\n",
    "        cov = np.cov(X.T)\n",
    "\n",
    "        # eigenvectors, eigenvalues\n",
    "        eigenvectors, eigenvalues = np.linalg.eig(cov)\n",
    "\n",
    "        # eigenvectors v = [:, i] column vector, transpose this for easier calculations\n",
    "        eigenvectors = eigenvectors.T\n",
    "\n",
    "        # sort eigenvectors\n",
    "        idxs = np.argsort(eigenvalues)[::-1]\n",
    "        eigenvalues = eigenvalues[idxs]\n",
    "        eigenvectors = eigenvectors[idxs]\n",
    "\n",
    "        self.components = eigenvectors[:self.n_components]\n",
    "\n",
    "    def transform(self, X):\n",
    "        # projects data\n",
    "        X = X - self.mean\n",
    "        return np.dot(X, self.components.T)"
   ]
  },
  {
   "cell_type": "code",
   "execution_count": 34,
   "metadata": {},
   "outputs": [],
   "source": [
    "import pickle\n",
    "\n",
    "# Load the list from the file using pickle\n",
    "with open(\"output_file.pkl\", \"rb\") as f:\n",
    "    my_list = pickle.load(f)\n",
    "\n"
   ]
  },
  {
   "cell_type": "code",
   "execution_count": 35,
   "metadata": {},
   "outputs": [
    {
     "data": {
      "image/png": "[encoded data removed]",
      "text/plain": [
       "<Figure size 432x288 with 1 Axes>"
      ]
     },
     "metadata": {
      "needs_background": "light"
     },
     "output_type": "display_data"
    }
   ],
   "source": [
    "import matplotlib.pyplot as plt\n",
    "import cv2\n",
    "\n",
    "# Get a random image from the dataset\n",
    "sample_image = my_list[0][20]\n",
    "sample_image = sample_image.reshape(37,50)\n",
    "# Display the image\n",
    "\n",
    "plt.imshow(sample_image, cmap='gray')\n",
    "plt.show()"
   ]
  },
  {
   "cell_type": "code",
   "execution_count": 36,
   "metadata": {},
   "outputs": [],
   "source": [
    "X , y = my_list"
   ]
  },
  {
   "cell_type": "code",
   "execution_count": 37,
   "metadata": {},
   "outputs": [],
   "source": [
    "X = np.array(X)"
   ]
  },
  {
   "cell_type": "code",
   "execution_count": 38,
   "metadata": {},
   "outputs": [
    {
     "data": {
      "text/plain": [
       "array([[  1,   2,   3, ..., 163, 143, 120],\n",
       "       [ 70,  68,  68, ...,  61,  64,  65],\n",
       "       [116,  69,  30, ...,  33,  30,  15],\n",
       "       ...,\n",
       "       [217, 201, 205, ..., 192, 200, 199],\n",
       "       [ 29,  19,  16, ..., 252, 255, 252],\n",
       "       [218, 222, 221, ..., 238, 239, 239]], dtype=uint8)"
      ]
     },
     "execution_count": 38,
     "metadata": {},
     "output_type": "execute_result"
    }
   ],
   "source": [
    "X"
   ]
  },
  {
   "cell_type": "code",
   "execution_count": 39,
   "metadata": {},
   "outputs": [
    {
     "name": "stdout",
     "output_type": "stream",
     "text": [
      "(39, 1850)\n"
     ]
    }
   ],
   "source": [
    "print(X.shape)"
   ]
  },
  {
   "cell_type": "code",
   "execution_count": 40,
   "metadata": {},
   "outputs": [],
   "source": [
    "import numpy as np\n",
    "from sklearn import  metrics\n",
    "from sklearn.model_selection import train_test_split\n",
    "from sklearn.datasets import fetch_lfw_people\n",
    "from sklearn.decomposition import PCA\n",
    "from sklearn import svm"
   ]
  },
  {
   "cell_type": "code",
   "execution_count": 45,
   "metadata": {},
   "outputs": [],
   "source": [
    "# Apply PCA to the raw pixel values\n",
    "n_components = 39\n",
    "pca = PCA(n_components=n_components)\n",
    "eigenfaces = pca.fit(X)\n",
    "eigenfaces = pca.transform(X)"
   ]
  },
  {
   "cell_type": "code",
   "execution_count": 46,
   "metadata": {},
   "outputs": [
    {
     "data": {
      "text/plain": [
       "(39, 39)"
      ]
     },
     "execution_count": 46,
     "metadata": {},
     "output_type": "execute_result"
    }
   ],
   "source": [
    "eigenfaces.shape"
   ]
  },
  {
   "cell_type": "code",
   "execution_count": 47,
   "metadata": {},
   "outputs": [],
   "source": [
    "X_train, X_test, y_train, y_test = train_test_split(eigenfaces, y, test_size=0.2)\n"
   ]
  },
  {
   "cell_type": "code",
   "execution_count": 48,
   "metadata": {},
   "outputs": [
    {
     "data": {
      "text/html": [
       "<style>#sk-container-id-4 {color: black;background-color: white;}#sk-container-id-4 pre{padding: 0;}#sk-container-id-4 div.sk-toggleable {background-color: white;}#sk-container-id-4 label.sk-toggleable__label {cursor: pointer;display: block;width: 100%;margin-bottom: 0;padding: 0.3em;box-sizing: border-box;text-align: center;}#sk-container-id-4 label.sk-toggleable__label-arrow:before {content: \"▸\";float: left;margin-right: 0.25em;color: #696969;}#sk-container-id-4 label.sk-toggleable__label-arrow:hover:before {color: black;}#sk-container-id-4 div.sk-estimator:hover label.sk-toggleable__label-arrow:before {color: black;}#sk-container-id-4 div.sk-toggleable__content {max-height: 0;max-width: 0;overflow: hidden;text-align: left;background-color: #f0f8ff;}#sk-container-id-4 div.sk-toggleable__content pre {margin: 0.2em;color: black;border-radius: 0.25em;background-color: #f0f8ff;}#sk-container-id-4 input.sk-toggleable__control:checked~div.sk-toggleable__content {max-height: 200px;max-width: 100%;overflow: auto;}#sk-container-id-4 input.sk-toggleable__control:checked~label.sk-toggleable__label-arrow:before {content: \"▾\";}#sk-container-id-4 div.sk-estimator input.sk-toggleable__control:checked~label.sk-toggleable__label {background-color: #d4ebff;}#sk-container-id-4 div.sk-label input.sk-toggleable__control:checked~label.sk-toggleable__label {background-color: #d4ebff;}#sk-container-id-4 input.sk-hidden--visually {border: 0;clip: rect(1px 1px 1px 1px);clip: rect(1px, 1px, 1px, 1px);height: 1px;margin: -1px;overflow: hidden;padding: 0;position: absolute;width: 1px;}#sk-container-id-4 div.sk-estimator {font-family: monospace;background-color: #f0f8ff;border: 1px dotted black;border-radius: 0.25em;box-sizing: border-box;margin-bottom: 0.5em;}#sk-container-id-4 div.sk-estimator:hover {background-color: #d4ebff;}#sk-container-id-4 div.sk-parallel-item::after {content: \"\";width: 100%;border-bottom: 1px solid gray;flex-grow: 1;}#sk-container-id-4 div.sk-label:hover label.sk-toggleable__label {background-color: #d4ebff;}#sk-container-id-4 div.sk-serial::before {content: \"\";position: absolute;border-left: 1px solid gray;box-sizing: border-box;top: 0;bottom: 0;left: 50%;z-index: 0;}#sk-container-id-4 div.sk-serial {display: flex;flex-direction: column;align-items: center;background-color: white;padding-right: 0.2em;padding-left: 0.2em;position: relative;}#sk-container-id-4 div.sk-item {position: relative;z-index: 1;}#sk-container-id-4 div.sk-parallel {display: flex;align-items: stretch;justify-content: center;background-color: white;position: relative;}#sk-container-id-4 div.sk-item::before, #sk-container-id-4 div.sk-parallel-item::before {content: \"\";position: absolute;border-left: 1px solid gray;box-sizing: border-box;top: 0;bottom: 0;left: 50%;z-index: -1;}#sk-container-id-4 div.sk-parallel-item {display: flex;flex-direction: column;z-index: 1;position: relative;background-color: white;}#sk-container-id-4 div.sk-parallel-item:first-child::after {align-self: flex-end;width: 50%;}#sk-container-id-4 div.sk-parallel-item:last-child::after {align-self: flex-start;width: 50%;}#sk-container-id-4 div.sk-parallel-item:only-child::after {width: 0;}#sk-container-id-4 div.sk-dashed-wrapped {border: 1px dashed gray;margin: 0 0.4em 0.5em 0.4em;box-sizing: border-box;padding-bottom: 0.4em;background-color: white;}#sk-container-id-4 div.sk-label label {font-family: monospace;font-weight: bold;display: inline-block;line-height: 1.2em;}#sk-container-id-4 div.sk-label-container {text-align: center;}#sk-container-id-4 div.sk-container {/* jupyter's `normalize.less` sets `[hidden] { display: none; }` but bootstrap.min.css set `[hidden] { display: none !important; }` so we also need the `!important` here to be able to override the default hidden behavior on the sphinx rendered scikit-learn.org. See: https://github.com/scikit-learn/scikit-learn/issues/21755 */display: inline-block !important;position: relative;}#sk-container-id-4 div.sk-text-repr-fallback {display: none;}</style><div id=\"sk-container-id-4\" class=\"sk-top-container\"><div class=\"sk-text-repr-fallback\"><pre>SVC(C=1, kernel=&#x27;linear&#x27;)</pre><b>In a Jupyter environment, please rerun this cell to show the HTML representation or trust the notebook. <br />On GitHub, the HTML representation is unable to render, please try loading this page with nbviewer.org.</b></div><div class=\"sk-container\" hidden><div class=\"sk-item\"><div class=\"sk-estimator sk-toggleable\"><input class=\"sk-toggleable__control sk-hidden--visually\" id=\"sk-estimator-id-4\" type=\"checkbox\" checked><label for=\"sk-estimator-id-4\" class=\"sk-toggleable__label sk-toggleable__label-arrow\">SVC</label><div class=\"sk-toggleable__content\"><pre>SVC(C=1, kernel=&#x27;linear&#x27;)</pre></div></div></div></div></div>"
      ],
      "text/plain": [
       "SVC(C=1, kernel='linear')"
      ]
     },
     "execution_count": 48,
     "metadata": {},
     "output_type": "execute_result"
    }
   ],
   "source": [
    "# Train an SVM model using the training set\n",
    "clf = svm.SVC(kernel='linear', C=1)\n",
    "clf.fit(X_train, y_train)"
   ]
  },
  {
   "cell_type": "code",
   "execution_count": 49,
   "metadata": {},
   "outputs": [],
   "source": [
    "y_pred = clf.predict(X_test)\n"
   ]
  },
  {
   "cell_type": "code",
   "execution_count": 50,
   "metadata": {},
   "outputs": [
    {
     "data": {
      "text/plain": [
       "array([[ 4.95580253e+02,  1.70752467e+02,  1.55035744e+03,\n",
       "         5.50305910e+02, -4.25057109e+02, -3.10680204e+01,\n",
       "        -4.31361925e+02, -1.59464606e+02,  3.93017284e+02,\n",
       "         9.93135218e+01,  7.51911577e+01, -1.19209867e+02,\n",
       "        -3.30408360e+02,  2.85155730e+02,  4.72610834e+01,\n",
       "         2.06769393e+02,  3.52957666e+02,  3.52257329e+02,\n",
       "         3.29149107e+02, -2.10989100e+02,  1.33809212e+02,\n",
       "         1.27513591e+01, -1.53106414e+02, -5.55314593e+00,\n",
       "        -6.29549798e+01,  6.52150163e+01, -2.44578352e+02,\n",
       "        -1.67392440e+02,  8.95128401e+01, -2.46275158e+02,\n",
       "        -1.13292123e+02,  5.39687391e+01, -4.94794345e+01,\n",
       "        -1.79147076e+02,  6.97795462e+00,  2.32987241e-13,\n",
       "         2.81774604e-13, -1.63424829e-13, -2.48689958e-14],\n",
       "       [-1.44506740e+03, -1.23811274e+03,  1.25463464e+03,\n",
       "         2.17342844e+01,  9.66714708e+01,  1.85540245e+01,\n",
       "         1.83646515e+02, -1.51016868e+02, -1.96281544e+02,\n",
       "        -4.14179118e+02,  6.63289161e+01,  1.79394964e+02,\n",
       "         2.37189200e+02,  7.39142727e+01,  6.74553533e+01,\n",
       "        -8.96839437e+01, -3.61288987e+02, -1.01438881e+02,\n",
       "        -6.33500304e+01,  8.72900997e+01, -1.85049809e+02,\n",
       "         2.26936977e+02,  9.14346666e+01, -3.26616564e+02,\n",
       "        -2.61961336e+01, -2.15746741e+02, -7.93743430e+01,\n",
       "         1.95476656e+02, -1.38588175e+02, -4.05093406e+02,\n",
       "         1.29714245e+01, -1.06052850e+02, -1.45333755e+02,\n",
       "         2.96650826e+01,  2.49149300e+01,  1.81188398e-13,\n",
       "         1.54543045e-13,  2.58015831e-13,  3.55271368e-15],\n",
       "       [ 7.61749411e+02, -6.09277938e+02, -9.76470580e+02,\n",
       "        -1.78397843e+02, -7.54061434e+02,  1.79505960e+02,\n",
       "        -3.76029824e+02, -2.87437401e+02,  7.19319999e+00,\n",
       "         3.61326549e+02, -1.31096603e+02,  1.46121869e+02,\n",
       "         3.25754701e+02,  1.00320325e+02,  6.87084894e+02,\n",
       "         1.16709304e+02, -2.76331368e+02, -2.87163156e+02,\n",
       "        -9.27696110e+01, -4.95757714e+02,  1.70631821e+02,\n",
       "        -2.55402910e+02, -2.04311773e+02, -2.14195604e+02,\n",
       "        -1.15111155e+02, -9.89893531e+01, -3.52143208e+01,\n",
       "        -8.87971479e+01, -6.07883815e+01, -8.03988813e+00,\n",
       "         1.83111898e+01, -1.92651548e+01,  4.11402037e+01,\n",
       "        -4.52031899e+00, -1.94995006e+01,  1.62980740e-13,\n",
       "        -1.51878510e-13,  2.45137244e-13,  1.59872116e-14],\n",
       "       [ 1.33925820e+03,  6.86620786e+02,  4.63672539e+02,\n",
       "        -3.71086665e+02,  7.85667091e+02, -3.70841396e+02,\n",
       "        -5.10143566e+02,  3.41964850e+02, -1.76248587e+02,\n",
       "        -1.26069872e+02, -6.34529219e+02, -9.30681093e+00,\n",
       "        -2.14757293e+02, -7.76418615e+01,  8.35271139e+01,\n",
       "         7.39577871e+01, -2.31396778e+02,  5.58451794e+01,\n",
       "        -6.24893223e+00, -5.19169971e+01, -8.24247622e+01,\n",
       "        -9.58327730e+01,  3.35747863e+00, -3.08270598e+01,\n",
       "         1.39377526e+00, -2.14730665e+01,  1.71399224e+01,\n",
       "        -4.13703344e+00, -3.13694279e+01,  7.04259563e+00,\n",
       "         6.61899820e-01,  4.01483356e+01,  2.28079891e+00,\n",
       "        -9.53109513e+00, -1.33631481e+00,  1.45661261e-13,\n",
       "        -3.18411963e-13, -1.95399252e-13,  2.12274642e-13],\n",
       "       [ 5.33108523e+02,  2.07876877e+02,  3.38445538e+02,\n",
       "        -6.13140207e+02,  6.42373356e+02,  1.46001913e+03,\n",
       "        -1.18775415e+02,  2.70911529e+02,  9.82495965e+02,\n",
       "        -2.23528981e+02,  2.89096075e+02,  5.10685082e+02,\n",
       "         6.86387532e+01, -1.37009951e+01, -1.54355963e+02,\n",
       "        -9.84511320e+01,  4.79169700e+01, -2.86084531e+01,\n",
       "         3.44790784e+01, -2.08587958e+02, -1.74059040e+02,\n",
       "        -9.91929023e+01, -1.97524009e+02,  3.71595656e+01,\n",
       "         6.06540731e+01,  4.18404644e+01,  1.22009514e+02,\n",
       "         4.64924736e+00,  3.56421516e+01,  1.36421472e+01,\n",
       "         5.71198819e+01, -1.63671885e+01, -3.74466859e+01,\n",
       "         3.95555315e+01,  1.85995410e+01,  2.67341704e-13,\n",
       "         1.27453603e-13, -1.07469589e-13,  1.19015908e-13],\n",
       "       [ 2.07960485e+03, -9.86510070e+02, -8.47441536e+01,\n",
       "         3.06521217e+02, -6.65006341e+02, -8.52312795e+01,\n",
       "        -8.74025410e+01, -2.49038828e+02, -1.02433367e+02,\n",
       "         2.24816399e+01, -2.40336199e+02,  3.44897437e+02,\n",
       "        -2.00044231e+02, -1.42542902e+02, -6.28569280e+02,\n",
       "        -4.19363730e+02, -2.69235672e+02,  1.40268156e+02,\n",
       "        -4.49234468e+02, -2.88116605e+02,  2.53427649e+01,\n",
       "         2.75834345e+02, -3.71579510e+01,  2.59145995e+02,\n",
       "        -1.41253063e+02,  9.43731312e+01, -9.40437217e+00,\n",
       "        -1.77218721e+02, -9.40291501e+01, -2.28606303e+01,\n",
       "         3.84168992e+01,  1.85773234e+01, -2.29260508e+01,\n",
       "         2.58546062e+01, -1.43008704e+01,  1.33226763e-13,\n",
       "         1.25899291e-13,  1.35003120e-13,  2.48689958e-14],\n",
       "       [ 1.91978354e+03,  2.77249763e+01,  1.46576231e+02,\n",
       "        -8.47882547e+01, -1.91590717e+01, -6.89143323e+02,\n",
       "         4.52502403e+02,  4.96443707e+02,  4.88967150e+02,\n",
       "         4.18749046e+02,  1.53921097e+02,  3.30397600e+02,\n",
       "         1.08474587e+02, -1.59121159e+02,  5.66247484e+02,\n",
       "        -9.46722630e+01,  2.94189688e+02, -5.83840618e+01,\n",
       "        -1.75634810e+02, -1.67405066e+01, -1.89351291e+01,\n",
       "         4.46358645e+02,  1.64156298e+02,  2.86244026e+01,\n",
       "         1.50854871e+02, -1.88853891e+00,  1.20576421e+02,\n",
       "         7.73514617e+01,  7.30631750e+01, -6.09651785e+01,\n",
       "        -4.36438497e+01,  2.61954985e+02, -3.38536180e+01,\n",
       "         2.29304300e+01, -1.89151863e+01,  1.36779477e-13,\n",
       "         1.75415238e-14,  9.05941988e-14, -2.13162821e-13],\n",
       "       [ 4.99330402e+02,  2.93580260e+02,  5.88331991e+02,\n",
       "        -9.82608526e+02, -2.97374480e+02, -3.47070859e+02,\n",
       "         9.17333594e+02, -2.83802602e+02, -1.55700067e+02,\n",
       "         1.10932998e+02, -6.94106131e+01,  4.02546161e+02,\n",
       "         1.93899520e+02, -3.15824675e+02, -2.32398092e+02,\n",
       "         2.95813371e+02,  3.17194427e+02,  4.10332195e+02,\n",
       "        -1.92173743e+02,  1.69903227e+02,  1.38130912e+02,\n",
       "        -4.04759922e+02, -5.65467226e+01, -1.44536773e+02,\n",
       "        -1.76385825e+02, -1.55955541e+02,  6.76897578e+01,\n",
       "        -8.56393401e+01,  7.78586439e+00, -2.57562162e+01,\n",
       "        -1.26829395e+01, -2.99822383e+01,  1.53492885e+00,\n",
       "         1.25314283e+01, -1.21724113e+01,  1.30562228e-13,\n",
       "        -1.52655666e-13, -2.04281037e-13,  1.45661261e-13]])"
      ]
     },
     "execution_count": 50,
     "metadata": {},
     "output_type": "execute_result"
    }
   ],
   "source": [
    "X_test"
   ]
  },
  {
   "cell_type": "code",
   "execution_count": 51,
   "metadata": {},
   "outputs": [
    {
     "name": "stdout",
     "output_type": "stream",
     "text": [
      "Accuracy: 0.75\n",
      "Precision: 0.75\n",
      "Recall: 0.75\n",
      "F1 score: 0.75\n"
     ]
    }
   ],
   "source": [
    "# Evaluate the performance of the model\n",
    "accuracy = metrics.accuracy_score(y_test, y_pred)\n",
    "precision = metrics.precision_score(y_test, y_pred, average='weighted')\n",
    "recall = metrics.recall_score(y_test, y_pred, average='weighted')\n",
    "f1_score = metrics.f1_score(y_test, y_pred, average='weighted')\n",
    "\n",
    "print(f\"Accuracy: {accuracy}\\nPrecision: {precision}\\nRecall: {recall}\\nF1 score: {f1_score}\")"
   ]
  },
  {
   "cell_type": "code",
   "execution_count": 52,
   "metadata": {},
   "outputs": [],
   "source": [
    "names = {0:\"mina george\",1:\"mina safwat\",2:\"abram\"}"
   ]
  },
  {
   "cell_type": "code",
   "execution_count": 68,
   "metadata": {},
   "outputs": [],
   "source": [
    "import cv2\n",
    "\n",
    "def predict_image(path,model,pca,names):\n",
    "    # Load the pre-trained face detection classifier\n",
    "    face_cascade = cv2.CascadeClassifier('haarcascade_frontalface_default.xml')\n",
    "\n",
    "    # Set the new width and height\n",
    "    new_width = 500\n",
    "    new_height = 500\n",
    "\n",
    "    img = cv2.imread(path)\n",
    "\n",
    "    # Resize the image\n",
    "    resized_img = cv2.resize(img, (new_width, new_height))\n",
    "    gray = cv2.cvtColor(resized_img, cv2.COLOR_BGR2GRAY)\n",
    "\n",
    "    faces = face_cascade.detectMultiScale(gray, scaleFactor=1.1, minNeighbors=5)\n",
    "    print(faces)\n",
    "    for (x, y, w, h) in faces:\n",
    "        cropped_img = gray[y:y+h, x:x+w]\n",
    "\n",
    "    cropped_img = cv2.resize(cropped_img,(50,37))\n",
    "    flatten_img = cropped_img.flatten().reshape(1,-1)\n",
    "    flatten_img = pca.transform(flatten_img)\n",
    "    result = model.predict(flatten_img)\n",
    "    confidence = model.decision_function(flatten_img)\n",
    "\n",
    "    # Print the prediction and confidence\n",
    "    print(\"Prediction:\", names[int(result)])\n",
    "    print(\"Confidence:\", confidence)"
   ]
  },
  {
   "cell_type": "code",
   "execution_count": 87,
   "metadata": {},
   "outputs": [
    {
     "name": "stdout",
     "output_type": "stream",
     "text": [
      "[[262  80 104 104]]\n",
      "Prediction: abram\n",
      "Confidence: [[-0.17410869  1.15059586  2.07073542]]\n"
     ]
    }
   ],
   "source": [
    "predict_image(\"6.jpg\",clf,pca,names)"
   ]
  }
 ],
 "metadata": {
  "kernelspec": {
   "display_name": "Python 3",
   "language": "python",
   "name": "python3"
  },
  "language_info": {
   "codemirror_mode": {
    "name": "ipython",
    "version": 3
   },
   "file_extension": ".py",
   "mimetype": "text/x-python",
   "name": "python",
   "nbconvert_exporter": "python",
   "pygments_lexer": "ipython3",
   "version": "3.9.13"
  },
  "orig_nbformat": 4
 },
 "nbformat": 4,
 "nbformat_minor": 2
}
