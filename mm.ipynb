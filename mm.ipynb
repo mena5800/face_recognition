{
 "cells": [
  {
   "cell_type": "code",
   "execution_count": 10,
   "metadata": {},
   "outputs": [],
   "source": [
    "import pickle\n",
    "\n",
    "# Load the saved model from the file\n",
    "with open('last_model.pkl', 'rb') as f:\n",
    "    pca, clf ,names= pickle.load(f)"
   ]
  },
  {
   "cell_type": "code",
   "execution_count": 9,
   "metadata": {},
   "outputs": [],
   "source": [
    "import numpy as np\n",
    "\n",
    "class PCA:\n",
    "    \"\"\"\n",
    "    Principal Component Analysis (PCA)\n",
    "    \"\"\"\n",
    "    \n",
    "    def __init__(self, n_components=None):\n",
    "        self.n_components = n_components\n",
    "        self.components_ = None\n",
    "        self.mean_ = None\n",
    "        self.explained_variance_ratio_ = None\n",
    "    \n",
    "    def fit(self, X):\n",
    "        \"\"\"\n",
    "        Fit the PCA model to the data.\n",
    "        \n",
    "        Args:\n",
    "        X: numpy array of shape (n_samples, n_features)\n",
    "        \"\"\"\n",
    "        # Subtract the mean of each feature\n",
    "        self.mean_ = np.mean(X, axis=0)\n",
    "        X = X - self.mean_\n",
    "        \n",
    "        # Calculate the covariance matrix\n",
    "        cov = np.cov(X, rowvar=False)\n",
    "        \n",
    "        # Calculate the top n_components eigenvectors using the power iteration method\n",
    "        eigenvalues, eigenvectors = np.linalg.eigh(cov)\n",
    "        sort_indices = np.argsort(eigenvalues)[::-1]\n",
    "        eigenvectors = eigenvectors[:,sort_indices]\n",
    "        if self.n_components is not None:\n",
    "            self.components_ = eigenvectors[:,:self.n_components]\n",
    "            self.explained_variance_ratio_ = eigenvalues[sort_indices][:self.n_components] / np.sum(eigenvalues)\n",
    "        else:\n",
    "            self.components_ = eigenvectors\n",
    "            self.explained_variance_ratio_ = eigenvalues[sort_indices] / np.sum(eigenvalues)\n",
    "    \n",
    "    def transform(self, X):\n",
    "        \"\"\"\n",
    "        Transform the data using the fitted PCA model.\n",
    "        \n",
    "        Args:\n",
    "        X: numpy array of shape (n_samples, n_features)\n",
    "        \n",
    "        Returns:\n",
    "        X_pca: numpy array of shape (n_samples, n_components)\n",
    "        \"\"\"\n",
    "        # Subtract the mean of each feature\n",
    "        X = X - self.mean_\n",
    "        \n",
    "        # Project the data onto the top n_components eigenvectors\n",
    "        if self.n_components is not None:\n",
    "            components = self.components_\n",
    "        else:\n",
    "            components = np.identity(X.shape[1])\n",
    "        X_pca = np.dot(X, components)\n",
    "        \n",
    "        return X_pca"
   ]
  }
 ],
 "metadata": {
  "kernelspec": {
   "display_name": "Python 3",
   "language": "python",
   "name": "python3"
  },
  "language_info": {
   "codemirror_mode": {
    "name": "ipython",
    "version": 3
   },
   "file_extension": ".py",
   "mimetype": "text/x-python",
   "name": "python",
   "nbconvert_exporter": "python",
   "pygments_lexer": "ipython3",
   "version": "3.9.13"
  },
  "orig_nbformat": 4
 },
 "nbformat": 4,
 "nbformat_minor": 2
}
